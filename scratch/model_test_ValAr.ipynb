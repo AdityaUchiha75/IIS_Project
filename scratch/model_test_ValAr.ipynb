{
 "cells": [
  {
   "cell_type": "code",
   "execution_count": 39,
   "metadata": {},
   "outputs": [],
   "source": [
    "import cv2\n",
    "import pandas as pd\n",
    "import numpy as np\n",
    "import opencv_jupyter_ui as jcv2\n",
    "import os\n",
    "from pathlib import Path\n",
    "from feat import Detector\n",
    "from IPython.display import Image\n",
    "from feat.utils import FEAT_EMOTION_COLUMNS\n",
    "\n",
    "from torch import nn\n",
    "import torch\n",
    "from torch.utils.data import Dataset, DataLoader, random_split\n",
    "from sklearn.preprocessing import MinMaxScaler"
   ]
  },
  {
   "cell_type": "code",
   "execution_count": 20,
   "metadata": {},
   "outputs": [],
   "source": [
    "detector = Detector(device=\"cuda\")"
   ]
  },
  {
   "cell_type": "code",
   "execution_count": 44,
   "metadata": {},
   "outputs": [],
   "source": [
    "class MLP(nn.Module):\n",
    "    def __init__(self, features_in=2, features_out=3):\n",
    "        super().__init__()\n",
    "\n",
    "        self.net = nn.Sequential(\n",
    "            nn.Linear(features_in, 15),\n",
    "            nn.Linear(15, features_out)\n",
    "            #nn.Linear(features_in, features_out)\n",
    "        )\n",
    "    def forward(self, input):\n",
    "        return self.net(input)"
   ]
  },
  {
   "cell_type": "code",
   "execution_count": 45,
   "metadata": {},
   "outputs": [],
   "source": [
    "path=Path(os.getcwd()).parent\n",
    "DIR_PATH=str(path) + '\\\\'\n",
    "\n",
    "device = \"cuda\" if torch.cuda.is_available() else \"cpu\"\n",
    "model = torch.load(Path( DIR_PATH + f'models/ValAr/model1.pt') ).to(device)"
   ]
  },
  {
   "cell_type": "code",
   "execution_count": 46,
   "metadata": {},
   "outputs": [],
   "source": [
    "class DiffFER(Dataset):\n",
    "    def __init__(self, data):\n",
    "        super().__init__()\n",
    "        sc = MinMaxScaler()\n",
    "        # everything in pytorch needs to be a tensor\n",
    "        label_cols=['valence', 'arousal']\n",
    "        self.labels = torch.tensor(sc.fit_transform(data[label_cols].to_numpy(dtype=np.float32)))\n",
    "        self.inputs = torch.tensor(data.drop(label_cols, axis=1).to_numpy(dtype=np.float32))\n",
    "\n",
    "    def __getitem__(self, index):\n",
    "        return self.inputs[index], self.labels[index]\n",
    "\n",
    "    def __len__(self):\n",
    "        return len(self.inputs)"
   ]
  },
  {
   "cell_type": "code",
   "execution_count": 47,
   "metadata": {},
   "outputs": [],
   "source": [
    "dataset = pd.read_csv(DIR_PATH + r'data/extracted_df.csv')\n",
    "cols=['AU06', 'AU07', 'AU12', 'AU14', 'AU43',  'valence', 'arousal']\n",
    "data = dataset[cols]\n",
    "dat=DiffFER(data)"
   ]
  },
  {
   "cell_type": "code",
   "execution_count": 48,
   "metadata": {},
   "outputs": [],
   "source": [
    "def return_emo_state(arr):\n",
    "    if arr[0] > 0 and arr[1] > 0:\n",
    "        return 'Happy'\n",
    "    elif arr[0] < 0 and arr[1] > 0:\n",
    "        return 'Angry'\n",
    "    elif arr[0] > 0 and arr[1] < 0:\n",
    "        return 'Calm'\n",
    "    elif arr[0] < 0 and arr[1] < 0:\n",
    "        return 'Sad'\n",
    "    else:\n",
    "        return 'Neutral'"
   ]
  },
  {
   "cell_type": "code",
   "execution_count": null,
   "metadata": {},
   "outputs": [],
   "source": [
    "# Your code here\n",
    "sc = MinMaxScaler()\n",
    "label_cols=['valence', 'arousal']\n",
    "sc.fit_transform(data[label_cols].to_numpy(dtype=np.float32))\n",
    "cap = cv2.VideoCapture(1)\n",
    "print(\"Capture on\")\n",
    "emo_list=[]\n",
    "flag=True\n",
    "while flag:\n",
    "    ret, frame = cap.read()\n",
    "\n",
    "    if not ret:\n",
    "        print(\"Error: Unable to capture the frame.\")\n",
    "        break\n",
    "\n",
    "    detected_faces = detector.detect_faces(frame)\n",
    "    detected_landmarks = detector.detect_landmarks(frame, detected_faces)\n",
    "    detected_aus = detector.detect_aus(frame, detected_landmarks)\n",
    "    for faces,au_units in zip(detected_faces,detected_aus): #access only one frame\n",
    "        for i in range(len(faces)): #access all faces detected in the frame\n",
    "            au_arr=[au_units[i][j] for j in [4,5,9,10,19] ]\n",
    "            #print(au_arr)\n",
    "            au_arrr=model(torch.tensor(au_arr).to(device))\n",
    "            #print(sc.inverse_transform(np.array(au_arrr.cpu()).reshape(1, -1))[0])\n",
    "            emotion=return_emo_state(sc.inverse_transform(np.array(au_arrr.cpu()).reshape(1, -1))[0])\n",
    "            emo_list.append(emotion)\n",
    "            x, y, w, h, p = faces[i]\n",
    "            # Drawing a rectangle around the detected face\n",
    "            cv2.rectangle(frame, (int(x), int(y)), (int(w), int(h)), (0,0 , 255), 2)\n",
    "\n",
    "            # Displaying the emotion label on top of the rectangle\n",
    "            cv2.putText(frame, emotion, (int(x), int(y) - 10), cv2.FONT_HERSHEY_SIMPLEX, 0.9, (0, 255, 0), 2)\n",
    "\n",
    "            # Displaying the frame with detected faces and emotions\n",
    "            jcv2.imshow(\"Emotion Detection\", frame)\n",
    "\n",
    "            # Press Esc to exit the program\n",
    "            key = jcv2.waitKey(1) or 0xFF\n",
    "            if key == 27:\n",
    "                flag=False\n",
    "                break\n",
    "        \n",
    "cap.release()\n",
    "jcv2.destroyAllWindows()\n",
    "print(\"Capture off\")\n",
    "#[[0.47976798 0.3999247 ]]"
   ]
  },
  {
   "cell_type": "code",
   "execution_count": 75,
   "metadata": {},
   "outputs": [],
   "source": [
    "import pandas as pd\n",
    "\n",
    "d={'emotion': emo_list}\n",
    "d_df=pd.DataFrame(d)\n"
   ]
  },
  {
   "cell_type": "code",
   "execution_count": 76,
   "metadata": {},
   "outputs": [
    {
     "data": {
      "text/plain": [
       "emotion\n",
       "Happy      38\n",
       "Angry      16\n",
       "Name: count, dtype: int64"
      ]
     },
     "execution_count": 76,
     "metadata": {},
     "output_type": "execute_result"
    }
   ],
   "source": [
    "d_df.value_counts()\n"
   ]
  }
 ],
 "metadata": {
  "kernelspec": {
   "display_name": "iis",
   "language": "python",
   "name": "python3"
  },
  "language_info": {
   "codemirror_mode": {
    "name": "ipython",
    "version": 3
   },
   "file_extension": ".py",
   "mimetype": "text/x-python",
   "name": "python",
   "nbconvert_exporter": "python",
   "pygments_lexer": "ipython3",
   "version": "3.11.5"
  }
 },
 "nbformat": 4,
 "nbformat_minor": 2
}
