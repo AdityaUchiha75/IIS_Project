{
 "cells": [
  {
   "cell_type": "code",
   "execution_count": null,
   "outputs": [],
   "source": [
    "from random import random\n",
    "from Cnn.test_cnn_model import emotion_detection\n",
    "from threading import Thread\n",
    "from queue import Queue\n",
    "from IIS_Project.furhat import mainScript\n",
    "\n",
    "def producer(queue):\n",
    "    print('Producer: Running')\n",
    "    for emotion in emotion_detection():\n",
    "        item = emotion\n",
    "        queue.put(item)\n",
    "    queue.put(None)\n",
    "\n",
    "def consumer(queue):\n",
    "    print('Consumer: Running')\n",
    "    while True:\n",
    "        item = queue.get()\n",
    "        mainScript.introduction(item)\n",
    "        if item is None:\n",
    "            break\n",
    "        \n",
    "queue = Queue()\n",
    "# start the consumer\n",
    "consumer = Thread(target=consumer, args=(queue,))\n",
    "consumer.start()\n",
    "# start the producer\n",
    "producer = Thread(target=producer, args=(queue,))\n",
    "producer.start()\n",
    "# wait for all threads to finish\n",
    "producer.join()\n",
    "consumer.join()"
   ],
   "metadata": {
    "collapsed": false,
    "ExecuteTime": {
     "start_time": "2024-01-09T14:41:47.086098700Z"
    }
   },
   "id": "bd95531a45b9f9ad"
  },
  {
   "cell_type": "code",
   "execution_count": 3,
   "outputs": [
    {
     "name": "stdout",
     "output_type": "stream",
     "text": [
      "Consumer: RunningProducer: Running\n",
      "\n",
      ">producer added (0, 0.16279246231193856)\n",
      ">consumer got (0, 0.16279246231193856)\n",
      ">producer added (1, 0.6802757948507954)\n",
      ">producer added (2, 0.3781035462246466)\n",
      ">consumer got (1, 0.6802757948507954)\n",
      ">producer added (3, 0.6235743412086889)\n",
      ">consumer got (2, 0.3781035462246466)\n",
      ">producer added (4, 0.06106139818857048)\n",
      ">producer added (5, 0.01155330911324759)\n",
      ">producer added (6, 0.12529588847536888)\n",
      ">producer added (7, 0.23768347679261026)\n",
      ">consumer got (3, 0.6235743412086889)\n",
      ">consumer got (4, 0.06106139818857048)\n",
      ">consumer got (5, 0.01155330911324759)\n",
      ">producer added (8, 0.32701578231240414)\n",
      ">producer added (9, 0.05025555040223273)\n",
      "Producer: Done\n",
      ">consumer got (6, 0.12529588847536888)\n",
      ">consumer got (7, 0.23768347679261026)\n",
      ">consumer got (8, 0.32701578231240414)\n",
      ">consumer got (9, 0.05025555040223273)\n",
      "Consumer: Done\n"
     ]
    }
   ],
   "source": [
    "# SuperFastPython.com\n",
    "# example of one producer and one consumer with threads\n",
    "from time import sleep\n",
    "from random import random\n",
    "from threading import Thread\n",
    "from queue import Queue\n",
    " \n",
    "# producer task\n",
    "def producer(queue):\n",
    "    print('Producer: Running')\n",
    "    # generate items\n",
    "    for i in range(10):\n",
    "        # generate a value\n",
    "        value = random()\n",
    "        # block, to simulate effort\n",
    "        sleep(value)\n",
    "        # create a tuple\n",
    "        item = (i, value)\n",
    "        # add to the queue\n",
    "        queue.put(item)\n",
    "        # report progress\n",
    "        print(f'>producer added {item}')\n",
    "    # signal that there are no further items\n",
    "    queue.put(None)\n",
    "    print('Producer: Done')\n",
    " \n",
    "# consumer task\n",
    "def consumer(queue):\n",
    "    print('Consumer: Running')\n",
    "    # consume items\n",
    "    while True:\n",
    "        # get a unit of work\n",
    "        item = queue.get()\n",
    "        # check for stop\n",
    "        if item is None:\n",
    "            break\n",
    "        # block, to simulate effort\n",
    "        sleep(item[1])\n",
    "        # report\n",
    "        print(f'>consumer got {item}')\n",
    "    # all done\n",
    "    print('Consumer: Done')\n",
    " \n",
    "# create the shared queue\n",
    "queue = Queue()\n",
    "# start the consumer\n",
    "consumer = Thread(target=consumer, args=(queue,))\n",
    "consumer.start()\n",
    "# start the producer\n",
    "producer = Thread(target=producer, args=(queue,))\n",
    "producer.start()\n",
    "# wait for all threads to finish\n",
    "producer.join()\n",
    "consumer.join()"
   ],
   "metadata": {
    "collapsed": false,
    "ExecuteTime": {
     "end_time": "2024-01-09T14:43:17.332461400Z",
     "start_time": "2024-01-09T14:43:13.943433900Z"
    }
   },
   "id": "21718db125b36559"
  }
 ],
 "metadata": {
  "kernelspec": {
   "display_name": "Python 3",
   "language": "python",
   "name": "python3"
  },
  "language_info": {
   "codemirror_mode": {
    "name": "ipython",
    "version": 2
   },
   "file_extension": ".py",
   "mimetype": "text/x-python",
   "name": "python",
   "nbconvert_exporter": "python",
   "pygments_lexer": "ipython2",
   "version": "2.7.6"
  }
 },
 "nbformat": 4,
 "nbformat_minor": 5
}
