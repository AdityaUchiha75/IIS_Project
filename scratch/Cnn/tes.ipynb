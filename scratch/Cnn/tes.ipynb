{
 "cells": [
  {
   "cell_type": "code",
   "execution_count": 1,
   "outputs": [],
   "source": [
    "import cv2\n",
    "import numpy as np\n",
    "import os\n",
    "from pathlib import Path\n",
    "import tensorflow as tf\n",
    "\n",
    "path = Path(os.getcwd()).parent.parent\n",
    "model_path = Path(str(path) + '/models/model_.h5')"
   ],
   "metadata": {
    "collapsed": false,
    "ExecuteTime": {
     "end_time": "2024-01-09T08:54:17.687343900Z",
     "start_time": "2024-01-09T08:54:14.637076600Z"
    }
   },
   "id": "83744285757ad7fc"
  },
  {
   "cell_type": "code",
   "execution_count": 2,
   "outputs": [
    {
     "data": {
      "text/plain": "WindowsPath('C:/Users/NickosKal/Desktop/University/Semester 3/Period 4/Intelligent Interactive Systems/IIS_Project')"
     },
     "execution_count": 2,
     "metadata": {},
     "output_type": "execute_result"
    }
   ],
   "source": [
    "path"
   ],
   "metadata": {
    "collapsed": false,
    "ExecuteTime": {
     "end_time": "2024-01-09T08:54:18.365281900Z",
     "start_time": "2024-01-09T08:54:18.332331400Z"
    }
   },
   "id": "5d888d96a354ff8e"
  },
  {
   "cell_type": "code",
   "execution_count": 3,
   "outputs": [
    {
     "ename": "NameError",
     "evalue": "name 'DIR_PATH' is not defined",
     "output_type": "error",
     "traceback": [
      "\u001B[1;31m---------------------------------------------------------------------------\u001B[0m",
      "\u001B[1;31mNameError\u001B[0m                                 Traceback (most recent call last)",
      "Cell \u001B[1;32mIn[3], line 1\u001B[0m\n\u001B[1;32m----> 1\u001B[0m \u001B[43mDIR_PATH\u001B[49m\n",
      "\u001B[1;31mNameError\u001B[0m: name 'DIR_PATH' is not defined"
     ]
    }
   ],
   "source": [
    "DIR_PATH"
   ],
   "metadata": {
    "collapsed": false,
    "ExecuteTime": {
     "end_time": "2024-01-09T08:54:22.651943300Z",
     "start_time": "2024-01-09T08:54:21.363734100Z"
    }
   },
   "id": "c935e1e6a5788563"
  },
  {
   "cell_type": "code",
   "execution_count": 4,
   "outputs": [
    {
     "data": {
      "text/plain": "WindowsPath('C:/Users/NickosKal/Desktop/University/Semester 3/Period 4/Intelligent Interactive Systems/IIS_Project/models/model_.h5')"
     },
     "execution_count": 4,
     "metadata": {},
     "output_type": "execute_result"
    }
   ],
   "source": [
    "model_path"
   ],
   "metadata": {
    "collapsed": false,
    "ExecuteTime": {
     "end_time": "2024-01-09T08:54:25.891702900Z",
     "start_time": "2024-01-09T08:54:25.872163200Z"
    }
   },
   "id": "8ff257868792a7de"
  },
  {
   "cell_type": "code",
   "execution_count": null,
   "outputs": [],
   "source": [],
   "metadata": {
    "collapsed": false
   },
   "id": "52b8ed6199a2266b"
  }
 ],
 "metadata": {
  "kernelspec": {
   "display_name": "Python 3",
   "language": "python",
   "name": "python3"
  },
  "language_info": {
   "codemirror_mode": {
    "name": "ipython",
    "version": 2
   },
   "file_extension": ".py",
   "mimetype": "text/x-python",
   "name": "python",
   "nbconvert_exporter": "python",
   "pygments_lexer": "ipython2",
   "version": "2.7.6"
  }
 },
 "nbformat": 4,
 "nbformat_minor": 5
}
