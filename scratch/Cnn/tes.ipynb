{
 "cells": [
  {
   "cell_type": "code",
   "execution_count": 12,
   "outputs": [],
   "source": [
    "import cv2\n",
    "import numpy as np\n",
    "import os\n",
    "from pathlib import Path\n",
    "import tensorflow as tf\n",
    "\n",
    "path = Path(os.getcwd()).parent.parent\n",
    "model_path = Path(str(path) + '/models/model_.h5')"
   ],
   "metadata": {
    "collapsed": false,
    "ExecuteTime": {
     "end_time": "2023-12-18T20:43:02.206028200Z",
     "start_time": "2023-12-18T20:43:02.196942100Z"
    }
   },
   "id": "83744285757ad7fc"
  },
  {
   "cell_type": "code",
   "execution_count": 7,
   "outputs": [
    {
     "data": {
      "text/plain": "WindowsPath('C:/Users/NickosKal/Desktop/University/Semester 3/Period 4/Intelligent Interactive Systems/IIS_Project')"
     },
     "execution_count": 7,
     "metadata": {},
     "output_type": "execute_result"
    }
   ],
   "source": [
    "path"
   ],
   "metadata": {
    "collapsed": false,
    "ExecuteTime": {
     "end_time": "2023-12-18T20:42:25.197063100Z",
     "start_time": "2023-12-18T20:42:25.146030300Z"
    }
   },
   "id": "5d888d96a354ff8e"
  },
  {
   "cell_type": "code",
   "execution_count": 8,
   "outputs": [
    {
     "data": {
      "text/plain": "'C:\\\\Users\\\\NickosKal\\\\Desktop\\\\University\\\\Semester 3\\\\Period 4\\\\Intelligent Interactive Systems\\\\IIS_Project\\\\scratch\\\\Cnn\\\\\\\\'"
     },
     "execution_count": 8,
     "metadata": {},
     "output_type": "execute_result"
    }
   ],
   "source": [
    "DIR_PATH"
   ],
   "metadata": {
    "collapsed": false,
    "ExecuteTime": {
     "end_time": "2023-12-18T20:42:28.392059200Z",
     "start_time": "2023-12-18T20:42:28.360647200Z"
    }
   },
   "id": "c935e1e6a5788563"
  },
  {
   "cell_type": "code",
   "execution_count": 13,
   "outputs": [
    {
     "data": {
      "text/plain": "WindowsPath('C:/Users/NickosKal/Desktop/University/Semester 3/Period 4/Intelligent Interactive Systems/IIS_Project/models/model_.h5')"
     },
     "execution_count": 13,
     "metadata": {},
     "output_type": "execute_result"
    }
   ],
   "source": [
    "model_path"
   ],
   "metadata": {
    "collapsed": false,
    "ExecuteTime": {
     "end_time": "2023-12-18T20:43:04.396305100Z",
     "start_time": "2023-12-18T20:43:04.377106200Z"
    }
   },
   "id": "8ff257868792a7de"
  },
  {
   "cell_type": "code",
   "execution_count": null,
   "outputs": [],
   "source": [],
   "metadata": {
    "collapsed": false
   },
   "id": "52b8ed6199a2266b"
  }
 ],
 "metadata": {
  "kernelspec": {
   "display_name": "Python 3",
   "language": "python",
   "name": "python3"
  },
  "language_info": {
   "codemirror_mode": {
    "name": "ipython",
    "version": 2
   },
   "file_extension": ".py",
   "mimetype": "text/x-python",
   "name": "python",
   "nbconvert_exporter": "python",
   "pygments_lexer": "ipython2",
   "version": "2.7.6"
  }
 },
 "nbformat": 4,
 "nbformat_minor": 5
}
