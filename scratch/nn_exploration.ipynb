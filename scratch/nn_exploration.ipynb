{
 "cells": [
  {
   "cell_type": "code",
   "execution_count": 1,
   "metadata": {},
   "outputs": [],
   "source": [
    "import pandas as pd\n",
    "import numpy as np\n",
    "from matplotlib import pyplot as plt\n",
    "import os\n",
    "from pathlib import Path\n",
    "import cv2 as cv\n",
    "from feat import Detector\n",
    "from feat.utils import FEAT_EMOTION_COLUMNS"
   ]
  },
  {
   "cell_type": "code",
   "execution_count": 2,
   "metadata": {},
   "outputs": [],
   "source": [
    "path=Path(os.getcwd()).parent\n",
    "DIR_PATH=str(path) + '\\\\'"
   ]
  },
  {
   "cell_type": "code",
   "execution_count": 4,
   "metadata": {},
   "outputs": [
    {
     "data": {
      "text/plain": [
       "'c:\\\\Users\\\\Audit\\\\Uppsala - Masters Europe\\\\Semester 3\\\\IIS\\\\IIS_Project\\\\'"
      ]
     },
     "execution_count": 4,
     "metadata": {},
     "output_type": "execute_result"
    }
   ],
   "source": [
    "DIR_PATH"
   ]
  },
  {
   "cell_type": "code",
   "execution_count": 3,
   "metadata": {},
   "outputs": [],
   "source": [
    "df = Path(str(path) + '/data/extracted_df.csv')\n",
    "data = pd.read_csv(df)"
   ]
  },
  {
   "cell_type": "code",
   "execution_count": 6,
   "metadata": {},
   "outputs": [
    {
     "data": {
      "text/plain": [
       "Index(['AU01', 'AU02', 'AU04', 'AU05', 'AU06', 'AU07', 'AU09', 'AU10', 'AU11',\n",
       "       'AU12', 'AU14', 'AU15', 'AU17', 'AU20', 'AU23', 'AU24', 'AU25', 'AU26',\n",
       "       'AU28', 'AU43', 'anger', 'disgust', 'fear', 'happiness', 'sadness',\n",
       "       'surprise', 'neutral', 'input', 'valence', 'arousal', 'expression'],\n",
       "      dtype='object')"
      ]
     },
     "execution_count": 6,
     "metadata": {},
     "output_type": "execute_result"
    }
   ],
   "source": [
    "data.columns"
   ]
  },
  {
   "cell_type": "code",
   "execution_count": 7,
   "metadata": {},
   "outputs": [
    {
     "data": {
      "text/plain": [
       "expression\n",
       "0    410\n",
       "1    336\n",
       "3    166\n",
       "6    159\n",
       "2     89\n",
       "4     72\n",
       "5     53\n",
       "Name: count, dtype: int64"
      ]
     },
     "execution_count": 7,
     "metadata": {},
     "output_type": "execute_result"
    }
   ],
   "source": [
    "data['expression'].value_counts()"
   ]
  },
  {
   "cell_type": "code",
   "execution_count": 4,
   "metadata": {},
   "outputs": [],
   "source": [
    "df_to_work = data[['expression', 'AU01', 'AU02', 'AU04', 'AU05', 'AU06', 'AU07', 'AU09', 'AU10', 'AU11', 'AU12', 'AU14', 'AU15', 'AU17', 'AU20', 'AU23', 'AU24', 'AU25', 'AU26', 'AU28', 'AU43']]\n",
    "#df_to_work = data[['expression', 'AU06', 'AU07', 'AU12', 'AU14', 'AU43']]"
   ]
  },
  {
   "cell_type": "code",
   "execution_count": 5,
   "metadata": {},
   "outputs": [],
   "source": [
    "expression = {\"anger\": 6, \"disgust\": 5 , \"fear\": 4, \"happiness\": 1, \"neutral\": 0, \"sadness\": 2, \"surprise\": 3}"
   ]
  },
  {
   "cell_type": "code",
   "execution_count": 6,
   "metadata": {},
   "outputs": [
    {
     "data": {
      "text/plain": [
       "7"
      ]
     },
     "execution_count": 6,
     "metadata": {},
     "output_type": "execute_result"
    }
   ],
   "source": [
    "len(expression)"
   ]
  },
  {
   "cell_type": "code",
   "execution_count": 11,
   "metadata": {},
   "outputs": [
    {
     "data": {
      "text/html": [
       "<div>\n",
       "<style scoped>\n",
       "    .dataframe tbody tr th:only-of-type {\n",
       "        vertical-align: middle;\n",
       "    }\n",
       "\n",
       "    .dataframe tbody tr th {\n",
       "        vertical-align: top;\n",
       "    }\n",
       "\n",
       "    .dataframe thead th {\n",
       "        text-align: right;\n",
       "    }\n",
       "</style>\n",
       "<table border=\"1\" class=\"dataframe\">\n",
       "  <thead>\n",
       "    <tr style=\"text-align: right;\">\n",
       "      <th></th>\n",
       "      <th>expression</th>\n",
       "      <th>AU06</th>\n",
       "      <th>AU07</th>\n",
       "      <th>AU12</th>\n",
       "      <th>AU14</th>\n",
       "      <th>AU43</th>\n",
       "    </tr>\n",
       "  </thead>\n",
       "  <tbody>\n",
       "    <tr>\n",
       "      <th>0</th>\n",
       "      <td>6</td>\n",
       "      <td>0.543061</td>\n",
       "      <td>1.0</td>\n",
       "      <td>0.504313</td>\n",
       "      <td>0.402954</td>\n",
       "      <td>0.366805</td>\n",
       "    </tr>\n",
       "    <tr>\n",
       "      <th>1</th>\n",
       "      <td>6</td>\n",
       "      <td>0.095835</td>\n",
       "      <td>0.0</td>\n",
       "      <td>0.043659</td>\n",
       "      <td>0.315263</td>\n",
       "      <td>0.119555</td>\n",
       "    </tr>\n",
       "    <tr>\n",
       "      <th>2</th>\n",
       "      <td>6</td>\n",
       "      <td>0.663774</td>\n",
       "      <td>1.0</td>\n",
       "      <td>0.733639</td>\n",
       "      <td>0.313485</td>\n",
       "      <td>0.561816</td>\n",
       "    </tr>\n",
       "    <tr>\n",
       "      <th>3</th>\n",
       "      <td>3</td>\n",
       "      <td>0.159838</td>\n",
       "      <td>0.0</td>\n",
       "      <td>0.163756</td>\n",
       "      <td>0.226066</td>\n",
       "      <td>0.246499</td>\n",
       "    </tr>\n",
       "    <tr>\n",
       "      <th>4</th>\n",
       "      <td>6</td>\n",
       "      <td>0.253567</td>\n",
       "      <td>1.0</td>\n",
       "      <td>0.244874</td>\n",
       "      <td>0.255993</td>\n",
       "      <td>0.370110</td>\n",
       "    </tr>\n",
       "    <tr>\n",
       "      <th>...</th>\n",
       "      <td>...</td>\n",
       "      <td>...</td>\n",
       "      <td>...</td>\n",
       "      <td>...</td>\n",
       "      <td>...</td>\n",
       "      <td>...</td>\n",
       "    </tr>\n",
       "    <tr>\n",
       "      <th>1280</th>\n",
       "      <td>3</td>\n",
       "      <td>0.124721</td>\n",
       "      <td>0.0</td>\n",
       "      <td>0.167278</td>\n",
       "      <td>0.664082</td>\n",
       "      <td>0.124136</td>\n",
       "    </tr>\n",
       "    <tr>\n",
       "      <th>1281</th>\n",
       "      <td>3</td>\n",
       "      <td>0.139587</td>\n",
       "      <td>1.0</td>\n",
       "      <td>0.133345</td>\n",
       "      <td>0.200780</td>\n",
       "      <td>0.137979</td>\n",
       "    </tr>\n",
       "    <tr>\n",
       "      <th>1282</th>\n",
       "      <td>6</td>\n",
       "      <td>0.090633</td>\n",
       "      <td>0.0</td>\n",
       "      <td>0.066790</td>\n",
       "      <td>0.162623</td>\n",
       "      <td>0.327276</td>\n",
       "    </tr>\n",
       "    <tr>\n",
       "      <th>1283</th>\n",
       "      <td>6</td>\n",
       "      <td>0.232533</td>\n",
       "      <td>0.0</td>\n",
       "      <td>0.190016</td>\n",
       "      <td>0.217689</td>\n",
       "      <td>0.402276</td>\n",
       "    </tr>\n",
       "    <tr>\n",
       "      <th>1284</th>\n",
       "      <td>3</td>\n",
       "      <td>0.184031</td>\n",
       "      <td>0.0</td>\n",
       "      <td>0.128027</td>\n",
       "      <td>0.362078</td>\n",
       "      <td>0.358971</td>\n",
       "    </tr>\n",
       "  </tbody>\n",
       "</table>\n",
       "<p>1285 rows × 6 columns</p>\n",
       "</div>"
      ],
      "text/plain": [
       "      expression      AU06  AU07      AU12      AU14      AU43\n",
       "0              6  0.543061   1.0  0.504313  0.402954  0.366805\n",
       "1              6  0.095835   0.0  0.043659  0.315263  0.119555\n",
       "2              6  0.663774   1.0  0.733639  0.313485  0.561816\n",
       "3              3  0.159838   0.0  0.163756  0.226066  0.246499\n",
       "4              6  0.253567   1.0  0.244874  0.255993  0.370110\n",
       "...          ...       ...   ...       ...       ...       ...\n",
       "1280           3  0.124721   0.0  0.167278  0.664082  0.124136\n",
       "1281           3  0.139587   1.0  0.133345  0.200780  0.137979\n",
       "1282           6  0.090633   0.0  0.066790  0.162623  0.327276\n",
       "1283           6  0.232533   0.0  0.190016  0.217689  0.402276\n",
       "1284           3  0.184031   0.0  0.128027  0.362078  0.358971\n",
       "\n",
       "[1285 rows x 6 columns]"
      ]
     },
     "execution_count": 11,
     "metadata": {},
     "output_type": "execute_result"
    }
   ],
   "source": [
    "df_to_work"
   ]
  },
  {
   "cell_type": "code",
   "execution_count": 12,
   "metadata": {},
   "outputs": [],
   "source": [
    "import numpy as np\n",
    "import pandas as pd\n",
    "from torch import nn\n",
    "from torch.utils.data import Dataset, DataLoader, random_split\n",
    "import torch"
   ]
  },
  {
   "cell_type": "code",
   "execution_count": 20,
   "metadata": {},
   "outputs": [],
   "source": [
    "class MLP(nn.Module):\n",
    "    def __init__(self, features_in=2, features_out=3):\n",
    "        super().__init__()\n",
    "\n",
    "        self.net = nn.Sequential(\n",
    "            nn.Linear(features_in, 15),\n",
    "            nn.ReLU(),\n",
    "            nn.Linear(15, 10),\n",
    "            nn.ReLU(),\n",
    "            nn.Linear(10, 5),\n",
    "            nn.ReLU(),\n",
    "            nn.Linear(5, features_out),\n",
    "        )\n",
    "\n",
    "    def forward(self, input):\n",
    "        return self.net(input)"
   ]
  },
  {
   "cell_type": "code",
   "execution_count": 21,
   "metadata": {},
   "outputs": [],
   "source": [
    "class MultiEmoVA(Dataset):\n",
    "    def __init__(self, data):\n",
    "        super().__init__()\n",
    "\n",
    "        # everything in pytorch needs to be a tensor\n",
    "        self.inputs = torch.tensor(data.drop(\"expression\", axis=1).to_numpy(dtype=np.float32))\n",
    "\n",
    "        # we need to transform label (str) to a number. In sklearn, this is done internally\n",
    "        #self.index2label = [label for label in data[\"expression\"].unique()]\n",
    "        #label2index = {label: i for i, label in enumerate(self.index2label)}\n",
    "\n",
    "        self.labels = torch.tensor(data[\"expression\"])\n",
    "\n",
    "    def __getitem__(self, index):\n",
    "        return self.inputs[index], self.labels[index]\n",
    "\n",
    "    def __len__(self):\n",
    "        return len(self.inputs)"
   ]
  },
  {
   "cell_type": "code",
   "execution_count": 22,
   "metadata": {},
   "outputs": [
    {
     "name": "stderr",
     "output_type": "stream",
     "text": [
      "  0%|          | 0/15 [00:00<?, ?it/s]"
     ]
    },
    {
     "name": "stdout",
     "output_type": "stream",
     "text": [
      "Using device: cuda\n",
      "Number of objects in Training set:  1028\n",
      "Number of objects in Validation set:  257\n"
     ]
    },
    {
     "name": "stderr",
     "output_type": "stream",
     "text": [
      "100%|██████████| 300/300 [01:05<00:00,  4.56it/s]\n",
      "  7%|▋         | 1/15 [01:05<15:21, 65.80s/it]"
     ]
    },
    {
     "name": "stdout",
     "output_type": "stream",
     "text": [
      "Accuracy is: 63.4241%\n",
      "Saving model!  Acc of 63.42412185668945 observed!\n",
      "Using device: cuda\n",
      "Number of objects in Training set:  1028\n",
      "Number of objects in Validation set:  257\n"
     ]
    },
    {
     "name": "stderr",
     "output_type": "stream",
     "text": [
      "100%|██████████| 300/300 [01:05<00:00,  4.60it/s]\n",
      " 13%|█▎        | 2/15 [02:11<14:11, 65.48s/it]"
     ]
    },
    {
     "name": "stdout",
     "output_type": "stream",
     "text": [
      "Accuracy is: 63.8132%\n",
      "Saving model!  Acc of 63.813228607177734 observed!\n",
      "Using device: cuda\n",
      "Number of objects in Training set:  1028\n",
      "Number of objects in Validation set:  257\n"
     ]
    },
    {
     "name": "stderr",
     "output_type": "stream",
     "text": [
      "100%|██████████| 300/300 [01:07<00:00,  4.42it/s]\n",
      " 20%|██        | 3/15 [03:19<13:19, 66.60s/it]"
     ]
    },
    {
     "name": "stdout",
     "output_type": "stream",
     "text": [
      "Accuracy is: 60.7004%\n",
      "Using device: cuda\n",
      "Number of objects in Training set:  1028\n",
      "Number of objects in Validation set:  257\n"
     ]
    },
    {
     "name": "stderr",
     "output_type": "stream",
     "text": [
      "100%|██████████| 300/300 [01:09<00:00,  4.30it/s]\n",
      " 27%|██▋       | 4/15 [04:28<12:26, 67.88s/it]"
     ]
    },
    {
     "name": "stdout",
     "output_type": "stream",
     "text": [
      "Accuracy is: 62.2568%\n",
      "Using device: cuda\n",
      "Number of objects in Training set:  1028\n",
      "Number of objects in Validation set:  257\n"
     ]
    },
    {
     "name": "stderr",
     "output_type": "stream",
     "text": [
      "100%|██████████| 300/300 [01:09<00:00,  4.34it/s]\n",
      " 33%|███▎      | 5/15 [05:38<11:23, 68.36s/it]"
     ]
    },
    {
     "name": "stdout",
     "output_type": "stream",
     "text": [
      "Accuracy is: 64.5914%\n",
      "Saving model!  Acc of 64.59143829345703 observed!\n",
      "Using device: cuda\n",
      "Number of objects in Training set:  1028\n",
      "Number of objects in Validation set:  257\n"
     ]
    },
    {
     "name": "stderr",
     "output_type": "stream",
     "text": [
      "100%|██████████| 300/300 [01:03<00:00,  4.69it/s]\n",
      " 40%|████      | 6/15 [06:42<10:01, 66.87s/it]"
     ]
    },
    {
     "name": "stdout",
     "output_type": "stream",
     "text": [
      "Accuracy is: 64.2023%\n",
      "Using device: cuda\n",
      "Number of objects in Training set:  1028\n",
      "Number of objects in Validation set:  257\n"
     ]
    },
    {
     "name": "stderr",
     "output_type": "stream",
     "text": [
      "100%|██████████| 300/300 [01:07<00:00,  4.45it/s]\n",
      " 47%|████▋     | 7/15 [07:49<08:56, 67.08s/it]"
     ]
    },
    {
     "name": "stdout",
     "output_type": "stream",
     "text": [
      "Accuracy is: 60.7004%\n",
      "Using device: cuda\n",
      "Number of objects in Training set:  1028\n",
      "Number of objects in Validation set:  257\n"
     ]
    },
    {
     "name": "stderr",
     "output_type": "stream",
     "text": [
      "100%|██████████| 300/300 [01:08<00:00,  4.35it/s]\n",
      " 53%|█████▎    | 8/15 [08:58<07:53, 67.69s/it]"
     ]
    },
    {
     "name": "stdout",
     "output_type": "stream",
     "text": [
      "Accuracy is: 67.7043%\n",
      "Saving model!  Acc of 67.70427703857422 observed!\n",
      "Using device: cuda\n",
      "Number of objects in Training set:  1028\n",
      "Number of objects in Validation set:  257\n"
     ]
    },
    {
     "name": "stderr",
     "output_type": "stream",
     "text": [
      "100%|██████████| 300/300 [01:02<00:00,  4.78it/s]\n",
      " 60%|██████    | 9/15 [10:01<06:36, 66.15s/it]"
     ]
    },
    {
     "name": "stdout",
     "output_type": "stream",
     "text": [
      "Accuracy is: 67.7043%\n",
      "Using device: cuda\n",
      "Number of objects in Training set:  1028\n",
      "Number of objects in Validation set:  257\n"
     ]
    },
    {
     "name": "stderr",
     "output_type": "stream",
     "text": [
      "100%|██████████| 300/300 [01:04<00:00,  4.67it/s]\n",
      " 67%|██████▋   | 10/15 [11:05<05:27, 65.60s/it]"
     ]
    },
    {
     "name": "stdout",
     "output_type": "stream",
     "text": [
      "Accuracy is: 58.3658%\n",
      "Using device: cuda\n",
      "Number of objects in Training set:  1028\n",
      "Number of objects in Validation set:  257\n"
     ]
    },
    {
     "name": "stderr",
     "output_type": "stream",
     "text": [
      "100%|██████████| 300/300 [01:04<00:00,  4.62it/s]\n",
      " 73%|███████▎  | 11/15 [12:10<04:21, 65.43s/it]"
     ]
    },
    {
     "name": "stdout",
     "output_type": "stream",
     "text": [
      "Accuracy is: 55.2529%\n",
      "Using device: cuda\n",
      "Number of objects in Training set:  1028\n",
      "Number of objects in Validation set:  257\n"
     ]
    },
    {
     "name": "stderr",
     "output_type": "stream",
     "text": [
      "100%|██████████| 300/300 [01:01<00:00,  4.87it/s]\n",
      " 80%|████████  | 12/15 [13:12<03:12, 64.31s/it]"
     ]
    },
    {
     "name": "stdout",
     "output_type": "stream",
     "text": [
      "Accuracy is: 68.0934%\n",
      "Saving model!  Acc of 68.0933837890625 observed!\n",
      "Using device: cuda\n",
      "Number of objects in Training set:  1028\n",
      "Number of objects in Validation set:  257\n"
     ]
    },
    {
     "name": "stderr",
     "output_type": "stream",
     "text": [
      "100%|██████████| 300/300 [01:02<00:00,  4.84it/s]\n",
      " 87%|████████▋ | 13/15 [14:14<02:07, 63.63s/it]"
     ]
    },
    {
     "name": "stdout",
     "output_type": "stream",
     "text": [
      "Accuracy is: 68.8716%\n",
      "Saving model!  Acc of 68.87159729003906 observed!\n",
      "Using device: cuda\n",
      "Number of objects in Training set:  1028\n",
      "Number of objects in Validation set:  257\n"
     ]
    },
    {
     "name": "stderr",
     "output_type": "stream",
     "text": [
      "100%|██████████| 300/300 [01:01<00:00,  4.91it/s]\n",
      " 93%|█████████▎| 14/15 [15:15<01:02, 62.90s/it]"
     ]
    },
    {
     "name": "stdout",
     "output_type": "stream",
     "text": [
      "Accuracy is: 62.2568%\n",
      "Using device: cuda\n",
      "Number of objects in Training set:  1028\n",
      "Number of objects in Validation set:  257\n"
     ]
    },
    {
     "name": "stderr",
     "output_type": "stream",
     "text": [
      "100%|██████████| 300/300 [01:01<00:00,  4.90it/s]\n",
      "100%|██████████| 15/15 [16:16<00:00, 65.13s/it]"
     ]
    },
    {
     "name": "stdout",
     "output_type": "stream",
     "text": [
      "Accuracy is: 66.5370%\n",
      "Mean accuracy: 63.6317%\n"
     ]
    },
    {
     "name": "stderr",
     "output_type": "stream",
     "text": [
      "\n"
     ]
    }
   ],
   "source": [
    "from tqdm import tqdm\n",
    "\n",
    "dataset = MultiEmoVA(df_to_work)\n",
    "K = 15\n",
    "# passing a generator to random_split is similar to specifying the seed in sklearn\n",
    "generator = torch.Generator().manual_seed(2023)\n",
    "# we need to move our model to the correct device\n",
    "cross_validation = []\n",
    "acc = 0\n",
    "# it is common to do a training loop multiple times, we call these 'epochs'\n",
    "for k in tqdm(range(K)):\n",
    "    device = \"cuda\" if torch.cuda.is_available() else \"cpu\"\n",
    "    print(f\"Using device: {device}\")\n",
    "    \n",
    "    train, test = random_split(dataset, [0.8, 0.2], generator=generator)\n",
    "    \n",
    "    print(\"Number of objects in Training set: \", len(train))\n",
    "    print(\"Number of objects in Validation set: \", len(test))\n",
    "    \n",
    "    train_loader = DataLoader(train, batch_size=16, shuffle=True)\n",
    "    loss_fn = nn.CrossEntropyLoss()\n",
    "    model = MLP(train[0][0].shape[0], len(expression)).to(device)\n",
    "    optim = torch.optim.Adam(model.parameters(), lr=0.001)\n",
    "\n",
    "    max_epochs = 300\n",
    "    for epoch in tqdm(range(max_epochs)):\n",
    "        for inputs, labels in train_loader:\n",
    "            # both input, output and model need to be on the same device\n",
    "            inputs = inputs.to(device)\n",
    "            labels = labels.to(device)\n",
    "\n",
    "            out = model(inputs)\n",
    "            loss = loss_fn(out, labels)\n",
    "\n",
    "            loss.backward()\n",
    "            optim.step()\n",
    "            optim.zero_grad()\n",
    "            \n",
    "    # print(f\"Training epoch {epoch} average loss: {loss:.4f}\")\n",
    "    # tell pytorch we're not training anymore\n",
    "    with torch.no_grad():\n",
    "        test_loader = DataLoader(test, batch_size=4)\n",
    "        correct = 0\n",
    "        for inputs, labels in test_loader:\n",
    "            inputs = inputs.to(device)\n",
    "            labels = labels.to(device)\n",
    "\n",
    "            predictions = model(inputs)\n",
    "            # Here we go from the models output to a single class and compare to ground truth\n",
    "            correct += (predictions.softmax(dim=1).argmax(dim=1) == labels).sum()\n",
    "        print(f\"Accuracy is: {correct / len(test) * 100:0.4f}%\")\n",
    "    if acc < correct / len(test) * 100:\n",
    "        acc = correct / len(test) * 100\n",
    "        torch.save(model, DIR_PATH + f'models/Emo/best_model_{k}.pt')\n",
    "        print('Saving model! ', f'Acc of {correct / len(test) * 100} observed!')\n",
    "    else:\n",
    "        pass\n",
    "    k_run_accuracy = correct / len(test) * 100\n",
    "    cross_validation.append(k_run_accuracy)\n",
    "print(f\"Mean accuracy: {sum(cross_validation) / len(cross_validation):0.4f}%\")"
   ]
  },
  {
   "cell_type": "code",
   "execution_count": 28,
   "metadata": {},
   "outputs": [
    {
     "name": "stdout",
     "output_type": "stream",
     "text": [
      "[Parameter containing:\n",
      "tensor([[ 4.0916e-01,  7.3124e-01,  5.7269e-01, -5.8743e-01,  4.9214e-01,\n",
      "          4.2050e-02,  9.4155e-01,  5.4522e-01,  2.2238e-01,  1.2529e+00,\n",
      "          6.2073e-01, -1.7630e-02, -3.9908e-01,  4.3761e-01,  2.3788e-01,\n",
      "         -7.2573e-01,  6.6051e-01,  1.0198e-01,  4.9798e-02,  5.5355e-01],\n",
      "        [ 4.2388e-01,  6.3481e-01, -7.9620e-01,  1.3637e-01, -6.9853e-01,\n",
      "          1.5100e-01,  3.1416e-02,  3.6951e-01,  4.4786e-02,  1.3197e+00,\n",
      "          6.7393e-02, -9.3148e-02,  3.7179e-02,  2.2581e-01,  8.6299e-01,\n",
      "         -8.0742e-02,  2.9910e-01, -1.4707e-01,  3.9336e-01,  2.5039e-01],\n",
      "        [ 7.6911e-01, -3.8578e-02, -1.0695e+00,  4.6167e-01, -1.8829e-01,\n",
      "          5.1877e-02, -9.3916e-01,  1.2354e-01,  1.6708e-01,  1.4203e+00,\n",
      "          4.7551e-01, -1.0786e-01,  3.0850e-01, -1.5509e-01, -2.3416e-01,\n",
      "          5.6346e-01, -3.1168e-01, -1.3029e+00,  6.8201e-01,  9.0260e-01],\n",
      "        [ 8.4744e-01, -2.7222e-01,  2.1857e-01,  2.3688e-01,  6.9826e-01,\n",
      "         -2.7660e-01,  5.7564e-01, -2.4873e-01,  1.3124e-01, -1.9983e-01,\n",
      "         -3.5235e-01,  3.8071e-01,  3.6269e-01, -1.1055e-01,  5.4157e-01,\n",
      "          1.4230e-02, -9.7171e-01,  5.6944e-02,  1.7153e-01, -8.2586e-01],\n",
      "        [ 3.4672e-01, -6.8692e-02, -4.5275e-01,  7.9826e-01, -5.5294e-01,\n",
      "         -1.1835e-01, -6.7993e-01, -5.2364e-02,  1.6841e-01,  3.4791e-01,\n",
      "         -3.8454e-01, -2.8966e-01,  7.9046e-02, -4.5898e-04,  1.5232e-01,\n",
      "         -4.8431e-01,  1.8980e-01,  2.1214e-01,  2.7411e-01, -3.5867e-01],\n",
      "        [ 3.3261e-01, -6.0214e-01,  1.2822e-01,  2.0040e-01,  1.0212e+00,\n",
      "          1.6466e-01,  5.9865e-01,  2.8405e-01, -2.6824e-01, -9.8038e-01,\n",
      "         -7.4017e-01,  1.8411e-02,  1.0828e+00, -8.9682e-02, -6.4877e-01,\n",
      "          1.6263e-01, -2.5798e-01, -3.8810e-01, -3.5930e-01, -3.0466e-01],\n",
      "        [ 3.6958e-01, -5.2775e-01, -2.7852e-01,  9.6458e-02,  5.2505e-01,\n",
      "          3.5718e-01, -4.0975e-01, -2.5755e-01, -2.3038e-01,  1.7662e+00,\n",
      "          6.4301e-01, -6.8075e-01,  3.6902e-01,  3.9684e-01,  1.4431e-01,\n",
      "          6.3152e-01, -1.1878e+00, -1.3090e+00,  3.4257e-01,  4.2152e-01],\n",
      "        [ 1.5879e-01, -4.4248e-01,  2.8388e-01,  3.4427e-01,  8.0195e-01,\n",
      "          4.9850e-02,  3.1856e-01,  1.9651e-01,  4.3000e-02, -1.4152e+00,\n",
      "         -6.4446e-01,  3.9705e-01,  3.0669e-01,  5.6449e-02, -3.3261e-02,\n",
      "          4.4644e-01, -2.7837e-01,  3.5431e-01,  2.2725e-01, -1.1852e-01],\n",
      "        [-1.0009e-01, -1.3358e-01, -1.6056e-01,  3.5174e-02,  4.3009e-02,\n",
      "          5.9086e-02, -2.0515e-01,  3.9183e-03, -4.3445e-02,  5.5349e-02,\n",
      "         -1.8137e-01, -5.6755e-02, -1.1975e-01,  1.0280e-01,  3.2450e-02,\n",
      "          3.0759e-02,  1.8089e-01, -5.0433e-02, -8.2243e-02, -2.2124e-01],\n",
      "        [-8.3944e-01,  1.6030e-01,  7.1455e-01,  2.1314e-01,  6.7518e-01,\n",
      "          3.4764e-01,  1.1989e+00, -8.3645e-02, -1.8717e-02, -6.1690e-01,\n",
      "         -1.1319e-02, -2.9493e-01, -2.3280e-01,  5.3463e-01,  9.0990e-01,\n",
      "         -5.2591e-01,  1.4142e-01,  1.7691e-01,  4.7886e-03, -8.7026e-01]],\n",
      "       device='cuda:0', requires_grad=True), Parameter containing:\n",
      "tensor([-0.6421, -0.1879,  0.2066,  0.1448,  0.4273,  0.5430,  0.1281,  0.7924,\n",
      "        -0.0907,  0.3419], device='cuda:0', requires_grad=True), Parameter containing:\n",
      "tensor([[-7.9333e-01, -5.8712e-04,  3.5481e-01,  5.6250e-01,  1.2471e+00,\n",
      "          8.1827e-01,  7.3213e-01,  1.6304e-01,  8.6215e-02, -4.3887e-01],\n",
      "        [ 6.1595e-01,  8.7537e-01,  1.3635e+00, -7.1298e-01, -9.6950e-01,\n",
      "         -2.0642e+00,  6.1357e-01, -1.8750e+00,  2.8419e-01, -1.6602e+00],\n",
      "        [-9.1234e-01, -5.9220e-01,  9.4612e-02,  5.3267e-01, -3.7803e-01,\n",
      "          4.4765e-02,  5.9652e-01,  5.9249e-01, -2.2144e-01, -3.8688e-01],\n",
      "        [-2.0262e-01,  5.4817e-01, -1.1643e+00, -8.1896e-01,  1.8864e-01,\n",
      "         -1.4400e+00, -1.0700e+00, -1.5454e-01, -7.4846e-02,  9.2913e-01],\n",
      "        [-4.4241e-01, -5.5113e-01, -2.9506e-01, -9.4000e-01, -1.1640e+00,\n",
      "          1.0951e+00, -1.2173e+00,  8.0145e-01, -2.2661e-01, -2.5115e-01],\n",
      "        [-9.4141e-01, -9.3587e-01, -2.5077e-01, -3.7606e-01,  8.6170e-01,\n",
      "          2.6220e-01,  4.9639e-01, -2.9250e-01,  4.8225e-02,  2.6388e-01],\n",
      "        [ 9.3601e-01, -2.2560e-01, -1.4021e+00,  1.0685e+00, -1.3287e+00,\n",
      "         -1.4843e-02, -1.3407e+00, -6.0326e-01,  1.9903e-01,  6.2699e-01]],\n",
      "       device='cuda:0', requires_grad=True), Parameter containing:\n",
      "tensor([ 0.0605, -0.2217, -0.3253,  0.3700,  0.2362,  0.3834, -0.3565],\n",
      "       device='cuda:0', requires_grad=True)]\n"
     ]
    },
    {
     "ename": "",
     "evalue": "",
     "output_type": "error",
     "traceback": [
      "\u001b[1;31mThe Kernel crashed while executing code in the the current cell or a previous cell. Please review the code in the cell(s) to identify a possible cause of the failure. Click <a href='https://aka.ms/vscodeJupyterKernelCrash'>here</a> for more info. View Jupyter <a href='command:jupyter.viewOutput'>log</a> for further details."
     ]
    }
   ],
   "source": [
    "print(list(model.parameters()))"
   ]
  },
  {
   "cell_type": "code",
   "execution_count": null,
   "metadata": {},
   "outputs": [],
   "source": [
    "#Batch size-11 , Optim - SGD, LR - 0.01\n",
    "\n",
    "# self.net = nn.Sequential(\n",
    "#     nn.Linear(features_in, 20),\n",
    "#     nn.ReLU(),\n",
    "#     nn.Linear(20, features_out),\n",
    "# )\n",
    "# 64.9806%\n",
    "\n",
    "# self.net = nn.Sequential(\n",
    "#     nn.Linear(features_in, 40),\n",
    "#     nn.ReLU(),\n",
    "#     nn.Linear(40, 20),\n",
    "#     nn.ReLU(),\n",
    "#     nn.Linear(20, 5),\n",
    "#     nn.ReLU(),\n",
    "#     nn.Linear(5, features_out),\n",
    "# )\n",
    "\n",
    "#63.4241%\n",
    "\n",
    "#Batch size-16 , Optim - Adam\n",
    "\n",
    "# self.net = nn.Sequential(\n",
    "#     nn.Linear(features_in, 40),\n",
    "#     nn.ReLU(),\n",
    "#     nn.Linear(40, 20),\n",
    "#     nn.ReLU(),\n",
    "#     nn.Linear(20, 5),\n",
    "#     nn.ReLU(),\n",
    "#     nn.Linear(5, features_out),\n",
    "# )\n",
    "\n",
    "#63.6576%\n",
    "\n",
    "# self.net = nn.Sequential(\n",
    "#     nn.Linear(features_in, 10),\n",
    "#     nn.ReLU(),\n",
    "#     nn.Linear(10, features_out),\n",
    "# )\n",
    "\n",
    "#65%"
   ]
  },
  {
   "cell_type": "code",
   "execution_count": null,
   "metadata": {},
   "outputs": [],
   "source": [
    "# 5 AU's alone - 'AU06', 'AU07', 'AU12', 'AU14', 'AU43' based on abs diff in AU means (Valence)\n",
    "# Batch size-16 , Optim - Adam\n",
    "\n",
    "# class MLP(nn.Module):\n",
    "#     def __init__(self, features_in=2, features_out=3):\n",
    "#         super().__init__()\n",
    "\n",
    "#         self.net = nn.Sequential(\n",
    "#             nn.Linear(features_in, 15),\n",
    "#             nn.ReLU(),\n",
    "#             nn.Linear(15, 10),\n",
    "#             nn.ReLU(),\n",
    "#             nn.Linear(10, 5),\n",
    "#             nn.ReLU(),\n",
    "#             nn.Linear(5, features_out),\n",
    "#         )\n",
    "\n",
    "#     def forward(self, input):\n",
    "#         return self.net(input)\n",
    "#  68.87%"
   ]
  }
 ],
 "metadata": {
  "kernelspec": {
   "display_name": "iis",
   "language": "python",
   "name": "python3"
  },
  "language_info": {
   "codemirror_mode": {
    "name": "ipython",
    "version": 3
   },
   "file_extension": ".py",
   "mimetype": "text/x-python",
   "name": "python",
   "nbconvert_exporter": "python",
   "pygments_lexer": "ipython3",
   "version": "3.11.5"
  }
 },
 "nbformat": 4,
 "nbformat_minor": 2
}
