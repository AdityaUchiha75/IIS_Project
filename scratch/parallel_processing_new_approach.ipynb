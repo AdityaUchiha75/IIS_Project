{
 "cells": [
  {
   "cell_type": "code",
   "execution_count": 7,
   "outputs": [
    {
     "name": "stdout",
     "output_type": "stream",
     "text": [
      "Consumer: Running\n",
      "Producer: Running\n",
      ">producer added (0, 0.6684451010632392)\n",
      ">producer added (1, 0.20954645424037843)\n",
      ">consumer got (0, 0.6684451010632392)\n",
      ">consumer got (1, 0.20954645424037843)\n",
      ">producer added (2, 0.8281708249097707)\n",
      ">producer added (3, 0.7103954772669826)\n",
      ">producer added (4, 0.12079033114231719)\n",
      ">consumer got (2, 0.8281708249097707)\n",
      ">consumer got (3, 0.7103954772669826)\n",
      ">consumer got (4, 0.12079033114231719)\n",
      ">producer added (5, 0.9162798694259607)\n",
      ">producer added (6, 0.5511082614350366)\n",
      ">producer added (7, 0.3041039437995283)\n",
      ">consumer got (5, 0.9162798694259607)\n",
      ">producer added (8, 0.1290848688634234)\n",
      ">consumer got (6, 0.5511082614350366)\n",
      ">consumer got (7, 0.3041039437995283)\n",
      ">consumer got (8, 0.1290848688634234)\n",
      ">producer added (9, 0.9458207956888307)\n",
      "Producer: Done\n",
      ">consumer got (9, 0.9458207956888307)\n",
      "Consumer: Done\n"
     ]
    }
   ],
   "source": [
    "from time import sleep\n",
    "from random import random\n",
    "from threading import Thread\n",
    "from queue import Queue\n",
    "import cv2\n",
    "import numpy as np\n",
    "import os\n",
    "from pathlib import Path\n",
    "import tensorflow as tf\n",
    "\n",
    "# producer task\n",
    "def producer(queue):\n",
    "    print('Producer: Running')\n",
    "    # generate items\n",
    "    for i in range(10):\n",
    "        # generate a value\n",
    "        value = random()\n",
    "        # block, to simulate effort\n",
    "        sleep(value)\n",
    "        # create a tuple\n",
    "        item = (i, value)\n",
    "        # add to the queue\n",
    "        queue.put(item)\n",
    "        # report progress\n",
    "        print(f'>producer added {item}')\n",
    "    # signal that there are no further items\n",
    "    queue.put(None)\n",
    "    print('Producer: Done')\n",
    " \n",
    "# consumer task\n",
    "def consumer(queue):\n",
    "    print('Consumer: Running')\n",
    "    # consume items\n",
    "    while True:\n",
    "        # get a unit of work\n",
    "        item = queue.get()\n",
    "        # check for stop\n",
    "        if item is None:\n",
    "            break\n",
    "        # block, to simulate effort\n",
    "        sleep(item[1])\n",
    "        # report\n",
    "        print(f'>consumer got {item}')\n",
    "    # all done\n",
    "    print('Consumer: Done')\n",
    " \n",
    "# create the shared queue\n",
    "queue = Queue()\n",
    "# start the consumer\n",
    "consumer = Thread(target=consumer, args=(queue,))\n",
    "consumer.start()\n",
    "# start the producer\n",
    "producer = Thread(target=producer, args=(queue,))\n",
    "producer.start()\n",
    "# wait for all threads to finish\n",
    "producer.join()\n",
    "consumer.join()"
   ],
   "metadata": {
    "collapsed": false,
    "ExecuteTime": {
     "end_time": "2024-01-08T20:43:05.074310300Z",
     "start_time": "2024-01-08T20:42:58.637308Z"
    }
   },
   "id": "7758a6fb0bf34dc7"
  },
  {
   "cell_type": "code",
   "execution_count": null,
   "outputs": [],
   "source": [],
   "metadata": {
    "collapsed": false
   },
   "id": "7e908edc936c86fa"
  }
 ],
 "metadata": {
  "kernelspec": {
   "display_name": "Python 3",
   "language": "python",
   "name": "python3"
  },
  "language_info": {
   "codemirror_mode": {
    "name": "ipython",
    "version": 2
   },
   "file_extension": ".py",
   "mimetype": "text/x-python",
   "name": "python",
   "nbconvert_exporter": "python",
   "pygments_lexer": "ipython2",
   "version": "2.7.6"
  }
 },
 "nbformat": 4,
 "nbformat_minor": 5
}
